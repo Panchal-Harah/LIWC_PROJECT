{
 "cells": [
  {
   "cell_type": "code",
   "execution_count": 1,
   "id": "4b09edd2",
   "metadata": {},
   "outputs": [
    {
     "name": "stdout",
     "output_type": "stream",
     "text": [
      "Defaulting to user installation because normal site-packages is not writeable\n",
      "Requirement already satisfied: liwc in c:\\users\\harsh panchal\\appdata\\roaming\\python\\python39\\site-packages (0.5.0)\n",
      "Note: you may need to restart the kernel to use updated packages.\n"
     ]
    }
   ],
   "source": [
    "pip install liwc"
   ]
  },
  {
   "cell_type": "code",
   "execution_count": 2,
   "id": "dfe3398e",
   "metadata": {},
   "outputs": [],
   "source": [
    "import liwc\n",
    "parse, category_names = liwc.load_token_parser('LIWC2007_English100131.dic')"
   ]
  },
  {
   "cell_type": "code",
   "execution_count": 3,
   "id": "3a4b31d2-9a58-4e80-ab84-1b1eb9f0c0c7",
   "metadata": {},
   "outputs": [],
   "source": [
    "import pandas as pd"
   ]
  },
  {
   "cell_type": "code",
   "execution_count": 6,
   "id": "b357348c",
   "metadata": {},
   "outputs": [],
   "source": [
    "import re\n",
    "\n",
    "def tokenize(text):\n",
    "    # you may want to use a smarter tokenizer\n",
    "    for match in re.finditer(r'\\w+', text, re.UNICODE):\n",
    "        yield match.group(0)\n",
    "\n",
    "gettysburg=pd.read_csv('TED_Talks_by_ID.csv');\n",
    "gettysburg=gettysburg.to_string()\n",
    "\n",
    "gettysburg_tokens = tokenize(gettysburg)"
   ]
  },
  {
   "cell_type": "code",
   "execution_count": 7,
   "id": "03971c72",
   "metadata": {},
   "outputs": [
    {
     "name": "stdout",
     "output_type": "stream",
     "text": [
      "Counter({'social': 22, 'work': 15, 'affect': 14, 'posemo': 12, 'money': 8, 'humans': 8, 'leisure': 7, 'relativ': 7, 'space': 6, 'cogmech': 6, 'achieve': 6, 'cause': 4, 'negemo': 2, 'anx': 2, 'funct': 1, 'pronoun': 1, 'ppron': 1, 'i': 1, 'verb': 1, 'auxverb': 1, 'relig': 1, 'bio': 1, 'ingest': 1, 'percept': 1, 'see': 1, 'motion': 1})\n"
     ]
    }
   ],
   "source": [
    "from collections import Counter\n",
    "gettysburg_counts = Counter(category for token in gettysburg_tokens for category in parse(token))\n",
    "print(gettysburg_counts)\n",
    "#=> Counter({'funct': 58, 'pronoun': 18, 'cogmech': 17, ...})"
   ]
  },
  {
   "cell_type": "code",
   "execution_count": null,
   "id": "59546969",
   "metadata": {},
   "outputs": [],
   "source": []
  },
  {
   "cell_type": "code",
   "execution_count": null,
   "id": "0fe627a3",
   "metadata": {},
   "outputs": [],
   "source": []
  },
  {
   "cell_type": "code",
   "execution_count": null,
   "id": "eb9c1d73",
   "metadata": {},
   "outputs": [],
   "source": []
  },
  {
   "cell_type": "code",
   "execution_count": null,
   "id": "205d27ae",
   "metadata": {},
   "outputs": [],
   "source": []
  },
  {
   "cell_type": "code",
   "execution_count": null,
   "id": "5e527ff4",
   "metadata": {},
   "outputs": [],
   "source": []
  },
  {
   "cell_type": "code",
   "execution_count": null,
   "id": "e8240b41",
   "metadata": {},
   "outputs": [],
   "source": []
  },
  {
   "cell_type": "code",
   "execution_count": null,
   "id": "345dac6b",
   "metadata": {},
   "outputs": [],
   "source": []
  },
  {
   "cell_type": "code",
   "execution_count": null,
   "id": "912d0581",
   "metadata": {},
   "outputs": [],
   "source": [
    "Counter({'funct': 51, 'relativ': 16, 'cogmech': 15, 'pronoun': 13, 'verb': 13, 'preps': 10, 'conj': 9, \n",
    "         'social': 9, 'space': 9, 'ipron': 9, 'auxverb': 9, 'present': 8, 'incl': 7, 'affect': 7, 'article': 6,\n",
    "         'time': 5, 'posemo': 5, 'ppron': 4, 'quant': 4, 'we': 3, 'past': 3, 'tentat': 3, 'adverb': 3, 'motion': 2, 'certain': 2, \n",
    "         'negemo': 2, 'anger': 2, 'excl': 2, 'future': 2,\n",
    "         'number': 1, 'family': 1, 'humans': 1, 'cause': 1, 'achieve': 1, 'death': 1, 'work': 1, 'leisure': 1, 'they': 1, 'discrep': 1})\n",
    "\n",
    "\n",
    "'''Four score and seven years ago our fathers brought forth on\n",
    "  this continent a new nation, conceived in liberty, and dedicated to the\n",
    "  proposition that all men are created equal. Now we are engaged in a great\n",
    "  civil war, testing whether that nation, or any nation so conceived and so\n",
    "  dedicated, can long endure. We are met on a great battlefield of thawar.\n",
    "  We have come to dedicate a portion of that field, as a final resting place\n",
    "  for those who here gave their lives that that nation might live. It is\n",
    "  altogether fitting and proper that we should do thi'''.lower()"
   ]
  },
  {
   "cell_type": "code",
   "execution_count": null,
   "id": "c53eb9af-b3b5-4bc0-8272-7e8377963a5a",
   "metadata": {},
   "outputs": [],
   "source": []
  }
 ],
 "metadata": {
  "kernelspec": {
   "display_name": "Python 3 (ipykernel)",
   "language": "python",
   "name": "python3"
  },
  "language_info": {
   "codemirror_mode": {
    "name": "ipython",
    "version": 3
   },
   "file_extension": ".py",
   "mimetype": "text/x-python",
   "name": "python",
   "nbconvert_exporter": "python",
   "pygments_lexer": "ipython3",
   "version": "3.9.12"
  }
 },
 "nbformat": 4,
 "nbformat_minor": 5
}
